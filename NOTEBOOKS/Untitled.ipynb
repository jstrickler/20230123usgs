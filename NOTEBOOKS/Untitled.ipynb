{
 "cells": [
  {
   "cell_type": "code",
   "execution_count": 1,
   "id": "ea164ff7",
   "metadata": {},
   "outputs": [],
   "source": [
    "import pandas as pd\n",
    "import matplotlib.pyplot as plt\n",
    "import matplotlib as mpl\n",
    "import seaborn as sns\n",
    "sns.set()"
   ]
  },
  {
   "cell_type": "code",
   "execution_count": 5,
   "id": "ec391522",
   "metadata": {},
   "outputs": [
    {
     "data": {
      "text/html": [
       "<div>\n",
       "<style scoped>\n",
       "    .dataframe tbody tr th:only-of-type {\n",
       "        vertical-align: middle;\n",
       "    }\n",
       "\n",
       "    .dataframe tbody tr th {\n",
       "        vertical-align: top;\n",
       "    }\n",
       "\n",
       "    .dataframe thead th {\n",
       "        text-align: right;\n",
       "    }\n",
       "</style>\n",
       "<table border=\"1\" class=\"dataframe\">\n",
       "  <thead>\n",
       "    <tr style=\"text-align: right;\">\n",
       "      <th></th>\n",
       "      <th>Airport</th>\n",
       "      <th>2001 Rank</th>\n",
       "      <th>2001 Total</th>\n",
       "      <th>2010 Rank</th>\n",
       "      <th>2010 Total</th>\n",
       "      <th>2011 Rank</th>\n",
       "      <th>Total</th>\n",
       "      <th>Percent change 2001-2011</th>\n",
       "      <th>Percent change 2010-2011</th>\n",
       "    </tr>\n",
       "    <tr>\n",
       "      <th>Code</th>\n",
       "      <th></th>\n",
       "      <th></th>\n",
       "      <th></th>\n",
       "      <th></th>\n",
       "      <th></th>\n",
       "      <th></th>\n",
       "      <th></th>\n",
       "      <th></th>\n",
       "      <th></th>\n",
       "    </tr>\n",
       "  </thead>\n",
       "  <tbody>\n",
       "    <tr>\n",
       "      <th>ATL</th>\n",
       "      <td>Atlanta, GA (Hartsfield-Jackson Atlanta Intern...</td>\n",
       "      <td>1</td>\n",
       "      <td>36,384,264</td>\n",
       "      <td>1</td>\n",
       "      <td>42,655,392</td>\n",
       "      <td>1</td>\n",
       "      <td>33,034,788</td>\n",
       "      <td>-9.2</td>\n",
       "      <td>-22.6</td>\n",
       "    </tr>\n",
       "    <tr>\n",
       "      <th>ORD</th>\n",
       "      <td>Chicago, IL (Chicago O'Hare International)</td>\n",
       "      <td>2</td>\n",
       "      <td>28,626,694</td>\n",
       "      <td>2</td>\n",
       "      <td>30,033,313</td>\n",
       "      <td>2</td>\n",
       "      <td>22,367,052</td>\n",
       "      <td>-21.9</td>\n",
       "      <td>-25.5</td>\n",
       "    </tr>\n",
       "    <tr>\n",
       "      <th>DFW</th>\n",
       "      <td>Dallas, TX (Dallas/Fort Worth International)</td>\n",
       "      <td>3</td>\n",
       "      <td>25,198,256</td>\n",
       "      <td>3</td>\n",
       "      <td>26,785,739</td>\n",
       "      <td>3</td>\n",
       "      <td>20,430,281</td>\n",
       "      <td>-18.9</td>\n",
       "      <td>-23.7</td>\n",
       "    </tr>\n",
       "    <tr>\n",
       "      <th>DEN</th>\n",
       "      <td>Denver, CO (Denver International)</td>\n",
       "      <td>6</td>\n",
       "      <td>16,397,390</td>\n",
       "      <td>4</td>\n",
       "      <td>24,965,553</td>\n",
       "      <td>4</td>\n",
       "      <td>19,190,341</td>\n",
       "      <td>17.0</td>\n",
       "      <td>-23.1</td>\n",
       "    </tr>\n",
       "    <tr>\n",
       "      <th>LAX</th>\n",
       "      <td>Los Angeles, CA (Los Angeles International)</td>\n",
       "      <td>4</td>\n",
       "      <td>22,873,307</td>\n",
       "      <td>5</td>\n",
       "      <td>22,860,849</td>\n",
       "      <td>5</td>\n",
       "      <td>18,379,418</td>\n",
       "      <td>-19.6</td>\n",
       "      <td>-19.6</td>\n",
       "    </tr>\n",
       "  </tbody>\n",
       "</table>\n",
       "</div>"
      ],
      "text/plain": [
       "                                                Airport  2001 Rank  \\\n",
       "Code                                                                 \n",
       "ATL   Atlanta, GA (Hartsfield-Jackson Atlanta Intern...          1   \n",
       "ORD          Chicago, IL (Chicago O'Hare International)          2   \n",
       "DFW        Dallas, TX (Dallas/Fort Worth International)          3   \n",
       "DEN                   Denver, CO (Denver International)          6   \n",
       "LAX         Los Angeles, CA (Los Angeles International)          4   \n",
       "\n",
       "      2001 Total  2010 Rank  2010 Total  2011 Rank       Total  \\\n",
       "Code                                                             \n",
       "ATL   36,384,264          1  42,655,392          1  33,034,788   \n",
       "ORD   28,626,694          2  30,033,313          2  22,367,052   \n",
       "DFW   25,198,256          3  26,785,739          3  20,430,281   \n",
       "DEN   16,397,390          4  24,965,553          4  19,190,341   \n",
       "LAX   22,873,307          5  22,860,849          5  18,379,418   \n",
       "\n",
       "      Percent change 2001-2011  Percent change 2010-2011  \n",
       "Code                                                      \n",
       "ATL                       -9.2                     -22.6  \n",
       "ORD                      -21.9                     -25.5  \n",
       "DFW                      -18.9                     -23.7  \n",
       "DEN                       17.0                     -23.1  \n",
       "LAX                      -19.6                     -19.6  "
      ]
     },
     "execution_count": 5,
     "metadata": {},
     "output_type": "execute_result"
    }
   ],
   "source": [
    "df = pd.read_csv(\"../DATA/airport_boardings.csv\", index_col=1)\n",
    "df.head()"
   ]
  },
  {
   "cell_type": "markdown",
   "id": "ad16dcac",
   "metadata": {},
   "source": [
    "## Get data for Atlanta"
   ]
  },
  {
   "cell_type": "code",
   "execution_count": 9,
   "id": "97f4ef98",
   "metadata": {},
   "outputs": [
    {
     "data": {
      "text/plain": [
       "Airport                     Atlanta, GA (Hartsfield-Jackson Atlanta Intern...\n",
       "2001 Rank                                                                   1\n",
       "2001 Total                                                         36,384,264\n",
       "2010 Rank                                                                   1\n",
       "2010 Total                                                         42,655,392\n",
       "2011 Rank                                                                   1\n",
       " Total                                                             33,034,788\n",
       "Percent change 2001-2011                                                 -9.2\n",
       "Percent change 2010-2011                                                -22.6\n",
       "Name: ATL, dtype: object"
      ]
     },
     "execution_count": 9,
     "metadata": {},
     "output_type": "execute_result"
    }
   ],
   "source": [
    "df.loc['ATL']"
   ]
  },
  {
   "cell_type": "code",
   "execution_count": null,
   "id": "e032ff98",
   "metadata": {},
   "outputs": [],
   "source": []
  }
 ],
 "metadata": {
  "kernelspec": {
   "display_name": "Python 3 (ipykernel)",
   "language": "python",
   "name": "python3"
  },
  "language_info": {
   "codemirror_mode": {
    "name": "ipython",
    "version": 3
   },
   "file_extension": ".py",
   "mimetype": "text/x-python",
   "name": "python",
   "nbconvert_exporter": "python",
   "pygments_lexer": "ipython3",
   "version": "3.9.12"
  }
 },
 "nbformat": 4,
 "nbformat_minor": 5
}
